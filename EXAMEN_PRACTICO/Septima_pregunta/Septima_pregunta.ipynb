{
  "nbformat": 4,
  "nbformat_minor": 0,
  "metadata": {
    "colab": {
      "provenance": []
    },
    "kernelspec": {
      "name": "python3",
      "display_name": "Python 3"
    },
    "language_info": {
      "name": "python"
    }
  },
  "cells": [
    {
      "cell_type": "markdown",
      "source": [
        "Utilizando deap"
      ],
      "metadata": {
        "id": "Ks6ErrYk_FvG"
      }
    },
    {
      "cell_type": "code",
      "source": [
        "!pip install deap"
      ],
      "metadata": {
        "colab": {
          "base_uri": "https://localhost:8080/"
        },
        "id": "0MVuRhGb_dJB",
        "outputId": "50ad4776-f26d-473a-d1a6-c821043a2155"
      },
      "execution_count": 2,
      "outputs": [
        {
          "output_type": "stream",
          "name": "stdout",
          "text": [
            "Collecting deap\n",
            "  Downloading deap-1.4.1-cp310-cp310-manylinux_2_5_x86_64.manylinux1_x86_64.manylinux_2_17_x86_64.manylinux2014_x86_64.whl.metadata (13 kB)\n",
            "Requirement already satisfied: numpy in /usr/local/lib/python3.10/dist-packages (from deap) (1.26.4)\n",
            "Downloading deap-1.4.1-cp310-cp310-manylinux_2_5_x86_64.manylinux1_x86_64.manylinux_2_17_x86_64.manylinux2014_x86_64.whl (135 kB)\n",
            "\u001b[2K   \u001b[90m━━━━━━━━━━━━━━━━━━━━━━━━━━━━━━━━━━━━━━━━\u001b[0m \u001b[32m135.4/135.4 kB\u001b[0m \u001b[31m2.2 MB/s\u001b[0m eta \u001b[36m0:00:00\u001b[0m\n",
            "\u001b[?25hInstalling collected packages: deap\n",
            "Successfully installed deap-1.4.1\n"
          ]
        }
      ]
    },
    {
      "cell_type": "code",
      "execution_count": 4,
      "metadata": {
        "colab": {
          "base_uri": "https://localhost:8080/"
        },
        "id": "vQuxj6pZ_Ags",
        "outputId": "9e995433-01ce-4df9-9c09-fc0ca9f3e636"
      },
      "outputs": [
        {
          "output_type": "stream",
          "name": "stdout",
          "text": [
            "Best individual: [1, 1, 1, 1, 1]\n",
            "Best fitness: (2.913567055049513e+92,)\n"
          ]
        },
        {
          "output_type": "stream",
          "name": "stderr",
          "text": [
            "/usr/local/lib/python3.10/dist-packages/deap/creator.py:185: RuntimeWarning: A class named 'FitnessMax' has already been created and it will be overwritten. Consider deleting previous creation of that class or rename it.\n",
            "  warnings.warn(\"A class named '{0}' has already been created and it \"\n",
            "/usr/local/lib/python3.10/dist-packages/deap/creator.py:185: RuntimeWarning: A class named 'Individual' has already been created and it will be overwritten. Consider deleting previous creation of that class or rename it.\n",
            "  warnings.warn(\"A class named '{0}' has already been created and it \"\n"
          ]
        }
      ],
      "source": [
        "import random\n",
        "from deap import base, creator, tools\n",
        "\n",
        "# Definir el problema\n",
        "creator.create(\"FitnessMax\", base.Fitness, weights=(1.0,))\n",
        "creator.create(\"Individual\", list, fitness=creator.FitnessMax)\n",
        "\n",
        "# Función de evaluación\n",
        "def evaluate(individual):\n",
        "    x = int(''.join(map(str, individual)), 2)  # Convertir binario a decimal\n",
        "    return (x**(2*x) - 1,)\n",
        "\n",
        "# Configuración del algoritmo\n",
        "toolbox = base.Toolbox()\n",
        "toolbox.register(\"binary\", random.randint, 0, 1)\n",
        "toolbox.register(\"individual\", tools.initRepeat, creator.Individual, toolbox.binary, n=5)  # Longitud 5\n",
        "toolbox.register(\"population\", tools.initRepeat, list, toolbox.individual)\n",
        "toolbox.register(\"evaluate\", evaluate)\n",
        "toolbox.register(\"mate\", tools.cxTwoPoint)\n",
        "toolbox.register(\"mutate\", tools.mutFlipBit, indpb=0.1)  # Probabilidad por bit\n",
        "toolbox.register(\"select\", tools.selTournament, tournsize=2)\n",
        "\n",
        "# Algoritmo genético\n",
        "def main():\n",
        "    population = toolbox.population(n=10)  # Población de 10\n",
        "    for gen in range(3):  # 3 generaciones\n",
        "        for ind in population:\n",
        "            ind.fitness.values = toolbox.evaluate(ind)\n",
        "\n",
        "        offspring = toolbox.select(population, len(population))\n",
        "        offspring = list(map(toolbox.clone, offspring))\n",
        "\n",
        "        for child1, child2 in zip(offspring[::2], offspring[1::2]):\n",
        "            if random.random() < 0.5:\n",
        "                toolbox.mate(child1, child2)\n",
        "                del child1.fitness.values\n",
        "                del child2.fitness.values\n",
        "\n",
        "        for mutant in offspring:\n",
        "            if random.random() < 0.2:  # Tasa de aplicación de la mutación\n",
        "                toolbox.mutate(mutant)\n",
        "                del mutant.fitness.values\n",
        "\n",
        "        population[:] = offspring\n",
        "\n",
        "    best_ind = tools.selBest(population, 1)[0]\n",
        "    print(\"Best individual:\", best_ind)\n",
        "    print(\"Best fitness:\", best_ind.fitness.values)\n",
        "\n",
        "if __name__ == \"__main__\":\n",
        "    main()\n"
      ]
    },
    {
      "cell_type": "markdown",
      "source": [
        "Sin Deap"
      ],
      "metadata": {
        "id": "0Oi1Dlwu_-C5"
      }
    },
    {
      "cell_type": "code",
      "source": [
        "import random\n",
        "\n",
        "# Función de evaluación\n",
        "def evaluate(individual):\n",
        "    x = int(''.join(map(str, individual)), 2)  # Convertir binario a decimal\n",
        "    return x**(2*x) - 1\n",
        "\n",
        "# Inicializar población\n",
        "def initialize_population(size, length):\n",
        "    return [[random.randint(0, 1) for _ in range(length)] for _ in range(size)]\n",
        "\n",
        "# Selección por torneo\n",
        "def tournament_selection(population):\n",
        "    competitors = random.sample(population, 2)\n",
        "    return max(competitors, key=evaluate)\n",
        "\n",
        "# Cruzamiento\n",
        "def crossover(parent1, parent2):\n",
        "    point = random.randint(1, len(parent1) - 1)\n",
        "    return parent1[:point] + parent2[point:]\n",
        "\n",
        "# Mutación\n",
        "def mutate(individual):\n",
        "    point = random.randint(0, len(individual) - 1)\n",
        "    individual[point] = 1 - individual[point]\n",
        "\n",
        "# Algoritmo genético\n",
        "def main():\n",
        "    population = initialize_population(10, 5)  # Población de 10, longitud 5\n",
        "    for gen in range(3):  # 3 generaciones\n",
        "        new_population = []\n",
        "        for _ in range(len(population)):\n",
        "            parent1 = tournament_selection(population)\n",
        "            parent2 = tournament_selection(population)\n",
        "            child = crossover(parent1, parent2)\n",
        "            if random.random() < 0.2:  # Tasa de mutación\n",
        "                mutate(child)\n",
        "            new_population.append(child)\n",
        "        population = new_population\n",
        "\n",
        "    best_ind = max(population, key=evaluate)\n",
        "    print(\"Best individual:\", best_ind)\n",
        "    print(\"Best fitness:\", evaluate(best_ind))\n",
        "\n",
        "if __name__ == \"__main__\":\n",
        "    main()"
      ],
      "metadata": {
        "colab": {
          "base_uri": "https://localhost:8080/"
        },
        "id": "PjTv0Trs__wp",
        "outputId": "e0c38897-081c-4c73-aefd-8cb89702a68c"
      },
      "execution_count": 5,
      "outputs": [
        {
          "output_type": "stream",
          "name": "stdout",
          "text": [
            "Best individual: [1, 1, 1, 0, 1]\n",
            "Best fitness: 6593012181135818604873641088565793338718216041722729705516887554767627147075930273960\n"
          ]
        }
      ]
    }
  ]
}